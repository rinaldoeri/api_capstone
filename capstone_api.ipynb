{
 "cells": [
  {
   "cell_type": "code",
   "execution_count": 1,
   "metadata": {},
   "outputs": [],
   "source": [
    "import sqlite3\n",
    "import pandas as pd\n",
    "\n",
    "conn = sqlite3.connect(\"chinook.db\")"
   ]
  },
  {
   "cell_type": "code",
   "execution_count": 97,
   "metadata": {},
   "outputs": [
    {
     "output_type": "execute_result",
     "data": {
      "text/plain": "   EmployeeId  LastName FirstName                Title  ReportsTo  \\\n0           1     Adams    Andrew      General Manager        NaN   \n1           2   Edwards     Nancy        Sales Manager        1.0   \n2           3   Peacock      Jane  Sales Support Agent        2.0   \n3           4      Park  Margaret  Sales Support Agent        2.0   \n4           5   Johnson     Steve  Sales Support Agent        2.0   \n5           6  Mitchell   Michael           IT Manager        1.0   \n6           7      King    Robert             IT Staff        6.0   \n7           8  Callahan     Laura             IT Staff        6.0   \n\n             BirthDate             HireDate                      Address  \\\n0  1962-02-18 00:00:00  2002-08-14 00:00:00          11120 Jasper Ave NW   \n1  1958-12-08 00:00:00  2002-05-01 00:00:00                 825 8 Ave SW   \n2  1973-08-29 00:00:00  2002-04-01 00:00:00                1111 6 Ave SW   \n3  1947-09-19 00:00:00  2003-05-03 00:00:00             683 10 Street SW   \n4  1965-03-03 00:00:00  2003-10-17 00:00:00                 7727B 41 Ave   \n5  1973-07-01 00:00:00  2003-10-17 00:00:00         5827 Bowness Road NW   \n6  1970-05-29 00:00:00  2004-01-02 00:00:00  590 Columbia Boulevard West   \n7  1968-01-09 00:00:00  2004-03-04 00:00:00                  923 7 ST NW   \n\n         City State Country PostalCode              Phone                Fax  \\\n0    Edmonton    AB  Canada    T5K 2N1  +1 (780) 428-9482  +1 (780) 428-3457   \n1     Calgary    AB  Canada    T2P 2T3  +1 (403) 262-3443  +1 (403) 262-3322   \n2     Calgary    AB  Canada    T2P 5M5  +1 (403) 262-3443  +1 (403) 262-6712   \n3     Calgary    AB  Canada    T2P 5G3  +1 (403) 263-4423  +1 (403) 263-4289   \n4     Calgary    AB  Canada    T3B 1Y7   1 (780) 836-9987   1 (780) 836-9543   \n5     Calgary    AB  Canada    T3B 0C5  +1 (403) 246-9887  +1 (403) 246-9899   \n6  Lethbridge    AB  Canada    T1K 5N8  +1 (403) 456-9986  +1 (403) 456-8485   \n7  Lethbridge    AB  Canada    T1H 1Y8  +1 (403) 467-3351  +1 (403) 467-8772   \n\n                      Email  \n0    andrew@chinookcorp.com  \n1     nancy@chinookcorp.com  \n2      jane@chinookcorp.com  \n3  margaret@chinookcorp.com  \n4     steve@chinookcorp.com  \n5   michael@chinookcorp.com  \n6    robert@chinookcorp.com  \n7     laura@chinookcorp.com  ",
      "text/html": "<div>\n<style scoped>\n    .dataframe tbody tr th:only-of-type {\n        vertical-align: middle;\n    }\n\n    .dataframe tbody tr th {\n        vertical-align: top;\n    }\n\n    .dataframe thead th {\n        text-align: right;\n    }\n</style>\n<table border=\"1\" class=\"dataframe\">\n  <thead>\n    <tr style=\"text-align: right;\">\n      <th></th>\n      <th>EmployeeId</th>\n      <th>LastName</th>\n      <th>FirstName</th>\n      <th>Title</th>\n      <th>ReportsTo</th>\n      <th>BirthDate</th>\n      <th>HireDate</th>\n      <th>Address</th>\n      <th>City</th>\n      <th>State</th>\n      <th>Country</th>\n      <th>PostalCode</th>\n      <th>Phone</th>\n      <th>Fax</th>\n      <th>Email</th>\n    </tr>\n  </thead>\n  <tbody>\n    <tr>\n      <th>0</th>\n      <td>1</td>\n      <td>Adams</td>\n      <td>Andrew</td>\n      <td>General Manager</td>\n      <td>NaN</td>\n      <td>1962-02-18 00:00:00</td>\n      <td>2002-08-14 00:00:00</td>\n      <td>11120 Jasper Ave NW</td>\n      <td>Edmonton</td>\n      <td>AB</td>\n      <td>Canada</td>\n      <td>T5K 2N1</td>\n      <td>+1 (780) 428-9482</td>\n      <td>+1 (780) 428-3457</td>\n      <td>andrew@chinookcorp.com</td>\n    </tr>\n    <tr>\n      <th>1</th>\n      <td>2</td>\n      <td>Edwards</td>\n      <td>Nancy</td>\n      <td>Sales Manager</td>\n      <td>1.0</td>\n      <td>1958-12-08 00:00:00</td>\n      <td>2002-05-01 00:00:00</td>\n      <td>825 8 Ave SW</td>\n      <td>Calgary</td>\n      <td>AB</td>\n      <td>Canada</td>\n      <td>T2P 2T3</td>\n      <td>+1 (403) 262-3443</td>\n      <td>+1 (403) 262-3322</td>\n      <td>nancy@chinookcorp.com</td>\n    </tr>\n    <tr>\n      <th>2</th>\n      <td>3</td>\n      <td>Peacock</td>\n      <td>Jane</td>\n      <td>Sales Support Agent</td>\n      <td>2.0</td>\n      <td>1973-08-29 00:00:00</td>\n      <td>2002-04-01 00:00:00</td>\n      <td>1111 6 Ave SW</td>\n      <td>Calgary</td>\n      <td>AB</td>\n      <td>Canada</td>\n      <td>T2P 5M5</td>\n      <td>+1 (403) 262-3443</td>\n      <td>+1 (403) 262-6712</td>\n      <td>jane@chinookcorp.com</td>\n    </tr>\n    <tr>\n      <th>3</th>\n      <td>4</td>\n      <td>Park</td>\n      <td>Margaret</td>\n      <td>Sales Support Agent</td>\n      <td>2.0</td>\n      <td>1947-09-19 00:00:00</td>\n      <td>2003-05-03 00:00:00</td>\n      <td>683 10 Street SW</td>\n      <td>Calgary</td>\n      <td>AB</td>\n      <td>Canada</td>\n      <td>T2P 5G3</td>\n      <td>+1 (403) 263-4423</td>\n      <td>+1 (403) 263-4289</td>\n      <td>margaret@chinookcorp.com</td>\n    </tr>\n    <tr>\n      <th>4</th>\n      <td>5</td>\n      <td>Johnson</td>\n      <td>Steve</td>\n      <td>Sales Support Agent</td>\n      <td>2.0</td>\n      <td>1965-03-03 00:00:00</td>\n      <td>2003-10-17 00:00:00</td>\n      <td>7727B 41 Ave</td>\n      <td>Calgary</td>\n      <td>AB</td>\n      <td>Canada</td>\n      <td>T3B 1Y7</td>\n      <td>1 (780) 836-9987</td>\n      <td>1 (780) 836-9543</td>\n      <td>steve@chinookcorp.com</td>\n    </tr>\n    <tr>\n      <th>5</th>\n      <td>6</td>\n      <td>Mitchell</td>\n      <td>Michael</td>\n      <td>IT Manager</td>\n      <td>1.0</td>\n      <td>1973-07-01 00:00:00</td>\n      <td>2003-10-17 00:00:00</td>\n      <td>5827 Bowness Road NW</td>\n      <td>Calgary</td>\n      <td>AB</td>\n      <td>Canada</td>\n      <td>T3B 0C5</td>\n      <td>+1 (403) 246-9887</td>\n      <td>+1 (403) 246-9899</td>\n      <td>michael@chinookcorp.com</td>\n    </tr>\n    <tr>\n      <th>6</th>\n      <td>7</td>\n      <td>King</td>\n      <td>Robert</td>\n      <td>IT Staff</td>\n      <td>6.0</td>\n      <td>1970-05-29 00:00:00</td>\n      <td>2004-01-02 00:00:00</td>\n      <td>590 Columbia Boulevard West</td>\n      <td>Lethbridge</td>\n      <td>AB</td>\n      <td>Canada</td>\n      <td>T1K 5N8</td>\n      <td>+1 (403) 456-9986</td>\n      <td>+1 (403) 456-8485</td>\n      <td>robert@chinookcorp.com</td>\n    </tr>\n    <tr>\n      <th>7</th>\n      <td>8</td>\n      <td>Callahan</td>\n      <td>Laura</td>\n      <td>IT Staff</td>\n      <td>6.0</td>\n      <td>1968-01-09 00:00:00</td>\n      <td>2004-03-04 00:00:00</td>\n      <td>923 7 ST NW</td>\n      <td>Lethbridge</td>\n      <td>AB</td>\n      <td>Canada</td>\n      <td>T1H 1Y8</td>\n      <td>+1 (403) 467-3351</td>\n      <td>+1 (403) 467-8772</td>\n      <td>laura@chinookcorp.com</td>\n    </tr>\n  </tbody>\n</table>\n</div>"
     },
     "metadata": {},
     "execution_count": 97
    }
   ],
   "source": [
    "emp = pd.read_sql_query(\"select * from employees\", conn)\n",
    "emp"
   ]
  },
  {
   "cell_type": "code",
   "execution_count": 8,
   "metadata": {},
   "outputs": [
    {
     "output_type": "execute_result",
     "data": {
      "text/plain": "   TrackId               Name  AlbumId  MediaTypeId  GenreId  \\\n0        4  Restless and Wild        3            2        1   \n\n                                            Composer  Milliseconds    Bytes  \\\n0  F. Baltes, R.A. Smith-Diesel, S. Kaufman, U. D...        252051  4331779   \n\n   UnitPrice  \n0       0.99  ",
      "text/html": "<div>\n<style scoped>\n    .dataframe tbody tr th:only-of-type {\n        vertical-align: middle;\n    }\n\n    .dataframe tbody tr th {\n        vertical-align: top;\n    }\n\n    .dataframe thead th {\n        text-align: right;\n    }\n</style>\n<table border=\"1\" class=\"dataframe\">\n  <thead>\n    <tr style=\"text-align: right;\">\n      <th></th>\n      <th>TrackId</th>\n      <th>Name</th>\n      <th>AlbumId</th>\n      <th>MediaTypeId</th>\n      <th>GenreId</th>\n      <th>Composer</th>\n      <th>Milliseconds</th>\n      <th>Bytes</th>\n      <th>UnitPrice</th>\n    </tr>\n  </thead>\n  <tbody>\n    <tr>\n      <th>0</th>\n      <td>4</td>\n      <td>Restless and Wild</td>\n      <td>3</td>\n      <td>2</td>\n      <td>1</td>\n      <td>F. Baltes, R.A. Smith-Diesel, S. Kaufman, U. D...</td>\n      <td>252051</td>\n      <td>4331779</td>\n      <td>0.99</td>\n    </tr>\n  </tbody>\n</table>\n</div>"
     },
     "metadata": {},
     "execution_count": 8
    }
   ],
   "source": [
    "track = pd.read_sql_query(\"select * from tracks where TrackId = 4\", conn)\n",
    "track"
   ]
  },
  {
   "cell_type": "code",
   "execution_count": 15,
   "metadata": {},
   "outputs": [
    {
     "output_type": "execute_result",
     "data": {
      "text/plain": "             TrackNm                                           Composer  \\\n0  Restless and Wild  F. Baltes, R.A. Smith-Diesel, S. Kaufman, U. D...   \n\n   UnitPrice GenreNm  GenreId  TrackId  \n0       0.99    Rock        1        4  ",
      "text/html": "<div>\n<style scoped>\n    .dataframe tbody tr th:only-of-type {\n        vertical-align: middle;\n    }\n\n    .dataframe tbody tr th {\n        vertical-align: top;\n    }\n\n    .dataframe thead th {\n        text-align: right;\n    }\n</style>\n<table border=\"1\" class=\"dataframe\">\n  <thead>\n    <tr style=\"text-align: right;\">\n      <th></th>\n      <th>TrackNm</th>\n      <th>Composer</th>\n      <th>UnitPrice</th>\n      <th>GenreNm</th>\n      <th>GenreId</th>\n      <th>TrackId</th>\n    </tr>\n  </thead>\n  <tbody>\n    <tr>\n      <th>0</th>\n      <td>Restless and Wild</td>\n      <td>F. Baltes, R.A. Smith-Diesel, S. Kaufman, U. D...</td>\n      <td>0.99</td>\n      <td>Rock</td>\n      <td>1</td>\n      <td>4</td>\n    </tr>\n  </tbody>\n</table>\n</div>"
     },
     "metadata": {},
     "execution_count": 15
    }
   ],
   "source": [
    "genre = pd.read_sql_query(\"select trk.Name as TrackNm, trk.Composer, trk.UnitPrice, gnr.Name as GenreNm, gnr.GenreId, trk.TrackId \\\n",
    "                   from tracks as trk, genres as gnr \\\n",
    "                   where trk.GenreId = gnr.GenreId and trk.TrackId = 4 and gnr.GenreId = 1\", conn)\n",
    "genre.head()"
   ]
  },
  {
   "cell_type": "code",
   "execution_count": 22,
   "metadata": {},
   "outputs": [
    {
     "output_type": "execute_result",
     "data": {
      "text/plain": "   MediaTypeId                         Name\n0            1              MPEG audio file\n1            2     Protected AAC audio file\n2            3  Protected MPEG-4 video file\n3            4     Purchased AAC audio file\n4            5               AAC audio file",
      "text/html": "<div>\n<style scoped>\n    .dataframe tbody tr th:only-of-type {\n        vertical-align: middle;\n    }\n\n    .dataframe tbody tr th {\n        vertical-align: top;\n    }\n\n    .dataframe thead th {\n        text-align: right;\n    }\n</style>\n<table border=\"1\" class=\"dataframe\">\n  <thead>\n    <tr style=\"text-align: right;\">\n      <th></th>\n      <th>MediaTypeId</th>\n      <th>Name</th>\n    </tr>\n  </thead>\n  <tbody>\n    <tr>\n      <th>0</th>\n      <td>1</td>\n      <td>MPEG audio file</td>\n    </tr>\n    <tr>\n      <th>1</th>\n      <td>2</td>\n      <td>Protected AAC audio file</td>\n    </tr>\n    <tr>\n      <th>2</th>\n      <td>3</td>\n      <td>Protected MPEG-4 video file</td>\n    </tr>\n    <tr>\n      <th>3</th>\n      <td>4</td>\n      <td>Purchased AAC audio file</td>\n    </tr>\n    <tr>\n      <th>4</th>\n      <td>5</td>\n      <td>AAC audio file</td>\n    </tr>\n  </tbody>\n</table>\n</div>"
     },
     "metadata": {},
     "execution_count": 22
    }
   ],
   "source": [
    "pd.read_sql_query(\"SELECT * FROM media_types\", conn)"
   ]
  },
  {
   "cell_type": "code",
   "execution_count": 87,
   "metadata": {},
   "outputs": [
    {
     "output_type": "execute_result",
     "data": {
      "text/plain": "          Country             Genre InvoiceDate   Total     rataan      Month\n0           Chile   Science Fiction  2010-01-13  102.41  17.068333    January\n1             USA            Comedy  2012-09-27  112.30  12.477778  September\n2             USA  Sci Fi & Fantasy  2012-08-05  198.87   9.943500     August\n3  Czech Republic             Drama  2013-11-13  544.61  18.779655   November\n4          Sweden          TV Shows  2010-01-10  817.71  17.398085    January",
      "text/html": "<div>\n<style scoped>\n    .dataframe tbody tr th:only-of-type {\n        vertical-align: middle;\n    }\n\n    .dataframe tbody tr th {\n        vertical-align: top;\n    }\n\n    .dataframe thead th {\n        text-align: right;\n    }\n</style>\n<table border=\"1\" class=\"dataframe\">\n  <thead>\n    <tr style=\"text-align: right;\">\n      <th></th>\n      <th>Country</th>\n      <th>Genre</th>\n      <th>InvoiceDate</th>\n      <th>Total</th>\n      <th>rataan</th>\n      <th>Month</th>\n    </tr>\n  </thead>\n  <tbody>\n    <tr>\n      <th>0</th>\n      <td>Chile</td>\n      <td>Science Fiction</td>\n      <td>2010-01-13</td>\n      <td>102.41</td>\n      <td>17.068333</td>\n      <td>January</td>\n    </tr>\n    <tr>\n      <th>1</th>\n      <td>USA</td>\n      <td>Comedy</td>\n      <td>2012-09-27</td>\n      <td>112.30</td>\n      <td>12.477778</td>\n      <td>September</td>\n    </tr>\n    <tr>\n      <th>2</th>\n      <td>USA</td>\n      <td>Sci Fi &amp; Fantasy</td>\n      <td>2012-08-05</td>\n      <td>198.87</td>\n      <td>9.943500</td>\n      <td>August</td>\n    </tr>\n    <tr>\n      <th>3</th>\n      <td>Czech Republic</td>\n      <td>Drama</td>\n      <td>2013-11-13</td>\n      <td>544.61</td>\n      <td>18.779655</td>\n      <td>November</td>\n    </tr>\n    <tr>\n      <th>4</th>\n      <td>Sweden</td>\n      <td>TV Shows</td>\n      <td>2010-01-10</td>\n      <td>817.71</td>\n      <td>17.398085</td>\n      <td>January</td>\n    </tr>\n  </tbody>\n</table>\n</div>"
     },
     "metadata": {},
     "execution_count": 87
    }
   ],
   "source": [
    "ttl_sales = pd.read_sql_query(\"SELECT inv.BillingCountry as Country, gnr.Name as Genre, inv.InvoiceDate, SUM(inv.Total) as Total, AVG(inv.Total) as rataan \\\n",
    "                   FROM invoices as inv, invoice_items as inv_itm, tracks as trk, genres as gnr, media_types as md_typ \\\n",
    "                   WHERE \\\n",
    "                   inv.InvoiceId = inv_itm.InvoiceId \\\n",
    "                   AND \\\n",
    "                   inv_itm.TrackId = trk.TrackId \\\n",
    "                   AND \\\n",
    "                   trk.GenreId = gnr.GenreId \\\n",
    "                   AND \\\n",
    "                   trk.MediaTypeId = md_typ.MediaTypeId \\\n",
    "                   AND \\\n",
    "                   md_typ.MediaTypeId = 3 \\\n",
    "                   GROUP BY Genre \\\n",
    "                   ORDER BY Total\", conn, parse_dates='InvoiceDate')\n",
    "\n",
    "ttl_sales['Month'] = ttl_sales[\"InvoiceDate\"].dt.month_name()\n",
    "ttl_sales"
   ]
  },
  {
   "cell_type": "code",
   "execution_count": 55,
   "metadata": {},
   "outputs": [
    {
     "output_type": "execute_result",
     "data": {
      "text/plain": "          Country             Genre InvoiceDate   Total      Month month_year\n0           Chile   Science Fiction  2010-01-13  102.41    January    2010-01\n1             USA            Comedy  2012-09-27  112.30  September    2012-09\n2             USA  Sci Fi & Fantasy  2012-08-05  198.87     August    2012-08\n3  Czech Republic             Drama  2013-11-13  544.61   November    2013-11\n4          Sweden          TV Shows  2010-01-10  817.71    January    2010-01",
      "text/html": "<div>\n<style scoped>\n    .dataframe tbody tr th:only-of-type {\n        vertical-align: middle;\n    }\n\n    .dataframe tbody tr th {\n        vertical-align: top;\n    }\n\n    .dataframe thead th {\n        text-align: right;\n    }\n</style>\n<table border=\"1\" class=\"dataframe\">\n  <thead>\n    <tr style=\"text-align: right;\">\n      <th></th>\n      <th>Country</th>\n      <th>Genre</th>\n      <th>InvoiceDate</th>\n      <th>Total</th>\n      <th>Month</th>\n      <th>month_year</th>\n    </tr>\n  </thead>\n  <tbody>\n    <tr>\n      <th>0</th>\n      <td>Chile</td>\n      <td>Science Fiction</td>\n      <td>2010-01-13</td>\n      <td>102.41</td>\n      <td>January</td>\n      <td>2010-01</td>\n    </tr>\n    <tr>\n      <th>1</th>\n      <td>USA</td>\n      <td>Comedy</td>\n      <td>2012-09-27</td>\n      <td>112.30</td>\n      <td>September</td>\n      <td>2012-09</td>\n    </tr>\n    <tr>\n      <th>2</th>\n      <td>USA</td>\n      <td>Sci Fi &amp; Fantasy</td>\n      <td>2012-08-05</td>\n      <td>198.87</td>\n      <td>August</td>\n      <td>2012-08</td>\n    </tr>\n    <tr>\n      <th>3</th>\n      <td>Czech Republic</td>\n      <td>Drama</td>\n      <td>2013-11-13</td>\n      <td>544.61</td>\n      <td>November</td>\n      <td>2013-11</td>\n    </tr>\n    <tr>\n      <th>4</th>\n      <td>Sweden</td>\n      <td>TV Shows</td>\n      <td>2010-01-10</td>\n      <td>817.71</td>\n      <td>January</td>\n      <td>2010-01</td>\n    </tr>\n  </tbody>\n</table>\n</div>"
     },
     "metadata": {},
     "execution_count": 55
    }
   ],
   "source": [
    "ttl_sales['month_year'] = pd.to_datetime(ttl_sales['InvoiceDate']).dt.to_period('M')\n",
    "ttl_sales"
   ]
  },
  {
   "cell_type": "code",
   "execution_count": 64,
   "metadata": {},
   "outputs": [
    {
     "output_type": "execute_result",
     "data": {
      "text/plain": "          Country             Genre InvoiceDate   Total      Month month_year\n0           Chile   Science Fiction  2010-01-13  102.41    January    01-2010\n1             USA            Comedy  2012-09-27  112.30  September    09-2012\n2             USA  Sci Fi & Fantasy  2012-08-05  198.87     August    08-2012\n3  Czech Republic             Drama  2013-11-13  544.61   November    11-2013\n4          Sweden          TV Shows  2010-01-10  817.71    January    01-2010",
      "text/html": "<div>\n<style scoped>\n    .dataframe tbody tr th:only-of-type {\n        vertical-align: middle;\n    }\n\n    .dataframe tbody tr th {\n        vertical-align: top;\n    }\n\n    .dataframe thead th {\n        text-align: right;\n    }\n</style>\n<table border=\"1\" class=\"dataframe\">\n  <thead>\n    <tr style=\"text-align: right;\">\n      <th></th>\n      <th>Country</th>\n      <th>Genre</th>\n      <th>InvoiceDate</th>\n      <th>Total</th>\n      <th>Month</th>\n      <th>month_year</th>\n    </tr>\n  </thead>\n  <tbody>\n    <tr>\n      <th>0</th>\n      <td>Chile</td>\n      <td>Science Fiction</td>\n      <td>2010-01-13</td>\n      <td>102.41</td>\n      <td>January</td>\n      <td>01-2010</td>\n    </tr>\n    <tr>\n      <th>1</th>\n      <td>USA</td>\n      <td>Comedy</td>\n      <td>2012-09-27</td>\n      <td>112.30</td>\n      <td>September</td>\n      <td>09-2012</td>\n    </tr>\n    <tr>\n      <th>2</th>\n      <td>USA</td>\n      <td>Sci Fi &amp; Fantasy</td>\n      <td>2012-08-05</td>\n      <td>198.87</td>\n      <td>August</td>\n      <td>08-2012</td>\n    </tr>\n    <tr>\n      <th>3</th>\n      <td>Czech Republic</td>\n      <td>Drama</td>\n      <td>2013-11-13</td>\n      <td>544.61</td>\n      <td>November</td>\n      <td>11-2013</td>\n    </tr>\n    <tr>\n      <th>4</th>\n      <td>Sweden</td>\n      <td>TV Shows</td>\n      <td>2010-01-10</td>\n      <td>817.71</td>\n      <td>January</td>\n      <td>01-2010</td>\n    </tr>\n  </tbody>\n</table>\n</div>"
     },
     "metadata": {},
     "execution_count": 64
    }
   ],
   "source": [
    "ttl_sales['month_year'] = ttl_sales['InvoiceDate'].dt.strftime('%m-%Y')\n",
    "ttl_sales"
   ]
  },
  {
   "cell_type": "code",
   "execution_count": 32,
   "metadata": {},
   "outputs": [
    {
     "output_type": "execute_result",
     "data": {
      "text/plain": "    Country               Genre                     Media_Nm   Total\n0   Germany                Rock     Protected AAC audio file  577.17\n1   Germany               Metal              MPEG audio file  189.09\n2   Germany               Latin              MPEG audio file  163.35\n3   Germany  Alternative & Punk              MPEG audio file  105.12\n4   Germany               Blues              MPEG audio file   97.02\n5   Germany          Soundtrack              MPEG audio file   59.40\n6   Germany            TV Shows  Protected MPEG-4 video file   44.73\n7   Germany         Heavy Metal              MPEG audio file   41.58\n8   Germany     Science Fiction  Protected MPEG-4 video file   29.82\n9   Germany                Jazz              MPEG audio file   27.72\n10  Germany      Easy Listening              MPEG audio file   27.72\n11  Germany               Drama  Protected MPEG-4 video file   14.91\n12  Germany                 Pop              MPEG audio file   13.86\n13  Germany         Alternative     Protected AAC audio file    0.99",
      "text/html": "<div>\n<style scoped>\n    .dataframe tbody tr th:only-of-type {\n        vertical-align: middle;\n    }\n\n    .dataframe tbody tr th {\n        vertical-align: top;\n    }\n\n    .dataframe thead th {\n        text-align: right;\n    }\n</style>\n<table border=\"1\" class=\"dataframe\">\n  <thead>\n    <tr style=\"text-align: right;\">\n      <th></th>\n      <th>Country</th>\n      <th>Genre</th>\n      <th>Media_Nm</th>\n      <th>Total</th>\n    </tr>\n  </thead>\n  <tbody>\n    <tr>\n      <th>0</th>\n      <td>Germany</td>\n      <td>Rock</td>\n      <td>Protected AAC audio file</td>\n      <td>577.17</td>\n    </tr>\n    <tr>\n      <th>1</th>\n      <td>Germany</td>\n      <td>Metal</td>\n      <td>MPEG audio file</td>\n      <td>189.09</td>\n    </tr>\n    <tr>\n      <th>2</th>\n      <td>Germany</td>\n      <td>Latin</td>\n      <td>MPEG audio file</td>\n      <td>163.35</td>\n    </tr>\n    <tr>\n      <th>3</th>\n      <td>Germany</td>\n      <td>Alternative &amp; Punk</td>\n      <td>MPEG audio file</td>\n      <td>105.12</td>\n    </tr>\n    <tr>\n      <th>4</th>\n      <td>Germany</td>\n      <td>Blues</td>\n      <td>MPEG audio file</td>\n      <td>97.02</td>\n    </tr>\n    <tr>\n      <th>5</th>\n      <td>Germany</td>\n      <td>Soundtrack</td>\n      <td>MPEG audio file</td>\n      <td>59.40</td>\n    </tr>\n    <tr>\n      <th>6</th>\n      <td>Germany</td>\n      <td>TV Shows</td>\n      <td>Protected MPEG-4 video file</td>\n      <td>44.73</td>\n    </tr>\n    <tr>\n      <th>7</th>\n      <td>Germany</td>\n      <td>Heavy Metal</td>\n      <td>MPEG audio file</td>\n      <td>41.58</td>\n    </tr>\n    <tr>\n      <th>8</th>\n      <td>Germany</td>\n      <td>Science Fiction</td>\n      <td>Protected MPEG-4 video file</td>\n      <td>29.82</td>\n    </tr>\n    <tr>\n      <th>9</th>\n      <td>Germany</td>\n      <td>Jazz</td>\n      <td>MPEG audio file</td>\n      <td>27.72</td>\n    </tr>\n    <tr>\n      <th>10</th>\n      <td>Germany</td>\n      <td>Easy Listening</td>\n      <td>MPEG audio file</td>\n      <td>27.72</td>\n    </tr>\n    <tr>\n      <th>11</th>\n      <td>Germany</td>\n      <td>Drama</td>\n      <td>Protected MPEG-4 video file</td>\n      <td>14.91</td>\n    </tr>\n    <tr>\n      <th>12</th>\n      <td>Germany</td>\n      <td>Pop</td>\n      <td>MPEG audio file</td>\n      <td>13.86</td>\n    </tr>\n    <tr>\n      <th>13</th>\n      <td>Germany</td>\n      <td>Alternative</td>\n      <td>Protected AAC audio file</td>\n      <td>0.99</td>\n    </tr>\n  </tbody>\n</table>\n</div>"
     },
     "metadata": {},
     "execution_count": 32
    }
   ],
   "source": [
    "country_sales = pd.read_sql_query(\"SELECT inv.BillingCountry as Country, gnr.Name as Genre, md_typ.Name as Media_Nm, sum(inv.Total) as Total\\\n",
    "                   FROM invoices as inv, invoice_items as inv_itm, tracks as trk, genres as gnr, media_types as md_typ \\\n",
    "                   WHERE \\\n",
    "                   inv.InvoiceId = inv_itm.InvoiceId \\\n",
    "                   AND \\\n",
    "                   inv_itm.TrackId = trk.TrackId \\\n",
    "                   AND \\\n",
    "                   trk.GenreId = gnr.GenreId \\\n",
    "                   AND \\\n",
    "                   trk.MediaTypeId = md_typ.MediaTypeId \\\n",
    "                   AND \\\n",
    "                   inv.BillingCountry = 'Germany' \\\n",
    "                   GROUP BY Genre \\\n",
    "                   ORDER BY Total DESC\", conn)\n",
    "country_sales"
   ]
  },
  {
   "cell_type": "code",
   "execution_count": 46,
   "metadata": {},
   "outputs": [
    {
     "output_type": "execute_result",
     "data": {
      "text/plain": "          Country             Genre                         Name   Total\n0           Chile   Science Fiction  Protected MPEG-4 video file  102.41\n1             USA            Comedy  Protected MPEG-4 video file  112.30\n2             USA  Sci Fi & Fantasy  Protected MPEG-4 video file  198.87\n3  Czech Republic             Drama  Protected MPEG-4 video file  544.61\n4          Sweden          TV Shows  Protected MPEG-4 video file  817.71",
      "text/html": "<div>\n<style scoped>\n    .dataframe tbody tr th:only-of-type {\n        vertical-align: middle;\n    }\n\n    .dataframe tbody tr th {\n        vertical-align: top;\n    }\n\n    .dataframe thead th {\n        text-align: right;\n    }\n</style>\n<table border=\"1\" class=\"dataframe\">\n  <thead>\n    <tr style=\"text-align: right;\">\n      <th></th>\n      <th>Country</th>\n      <th>Genre</th>\n      <th>Name</th>\n      <th>Total</th>\n    </tr>\n  </thead>\n  <tbody>\n    <tr>\n      <th>0</th>\n      <td>Chile</td>\n      <td>Science Fiction</td>\n      <td>Protected MPEG-4 video file</td>\n      <td>102.41</td>\n    </tr>\n    <tr>\n      <th>1</th>\n      <td>USA</td>\n      <td>Comedy</td>\n      <td>Protected MPEG-4 video file</td>\n      <td>112.30</td>\n    </tr>\n    <tr>\n      <th>2</th>\n      <td>USA</td>\n      <td>Sci Fi &amp; Fantasy</td>\n      <td>Protected MPEG-4 video file</td>\n      <td>198.87</td>\n    </tr>\n    <tr>\n      <th>3</th>\n      <td>Czech Republic</td>\n      <td>Drama</td>\n      <td>Protected MPEG-4 video file</td>\n      <td>544.61</td>\n    </tr>\n    <tr>\n      <th>4</th>\n      <td>Sweden</td>\n      <td>TV Shows</td>\n      <td>Protected MPEG-4 video file</td>\n      <td>817.71</td>\n    </tr>\n  </tbody>\n</table>\n</div>"
     },
     "metadata": {},
     "execution_count": 46
    }
   ],
   "source": [
    "ttl_sales_media = pd.read_sql_query(\"SELECT inv.BillingCountry as Country, gnr.Name as Genre, md_typ.Name, SUM(inv.Total) as Total \\\n",
    "                   FROM invoices as inv, invoice_items as inv_itm, tracks as trk, genres as gnr, media_types as md_typ \\\n",
    "                   WHERE \\\n",
    "                   inv.InvoiceId = inv_itm.InvoiceId \\\n",
    "                   AND \\\n",
    "                   inv_itm.TrackId = trk.TrackId \\\n",
    "                   AND \\\n",
    "                   trk.GenreId = gnr.GenreId \\\n",
    "                   AND \\\n",
    "                   trk.MediaTypeId = md_typ.MediaTypeId \\\n",
    "                   AND \\\n",
    "                   md_typ.MediaTypeId = 3 \\\n",
    "                   GROUP BY Genre \\\n",
    "                   ORDER BY Total\", conn)\n",
    "ttl_sales_media"
   ]
  },
  {
   "cell_type": "code",
   "execution_count": 67,
   "metadata": {},
   "outputs": [
    {
     "output_type": "execute_result",
     "data": {
      "text/plain": "   AlbumId                                  Title  ArtistId\n0        1  For Those About To Rock We Salute You         1\n1        2                      Balls to the Wall         2\n2        3                      Restless and Wild         2\n3        4                      Let There Be Rock         1\n4        5                               Big Ones         3",
      "text/html": "<div>\n<style scoped>\n    .dataframe tbody tr th:only-of-type {\n        vertical-align: middle;\n    }\n\n    .dataframe tbody tr th {\n        vertical-align: top;\n    }\n\n    .dataframe thead th {\n        text-align: right;\n    }\n</style>\n<table border=\"1\" class=\"dataframe\">\n  <thead>\n    <tr style=\"text-align: right;\">\n      <th></th>\n      <th>AlbumId</th>\n      <th>Title</th>\n      <th>ArtistId</th>\n    </tr>\n  </thead>\n  <tbody>\n    <tr>\n      <th>0</th>\n      <td>1</td>\n      <td>For Those About To Rock We Salute You</td>\n      <td>1</td>\n    </tr>\n    <tr>\n      <th>1</th>\n      <td>2</td>\n      <td>Balls to the Wall</td>\n      <td>2</td>\n    </tr>\n    <tr>\n      <th>2</th>\n      <td>3</td>\n      <td>Restless and Wild</td>\n      <td>2</td>\n    </tr>\n    <tr>\n      <th>3</th>\n      <td>4</td>\n      <td>Let There Be Rock</td>\n      <td>1</td>\n    </tr>\n    <tr>\n      <th>4</th>\n      <td>5</td>\n      <td>Big Ones</td>\n      <td>3</td>\n    </tr>\n  </tbody>\n</table>\n</div>"
     },
     "metadata": {},
     "execution_count": 67
    }
   ],
   "source": [
    "album = pd.read_sql_query(\"select * from albums\", conn)\n",
    "album.head()"
   ]
  },
  {
   "cell_type": "code",
   "execution_count": 86,
   "metadata": {},
   "outputs": [
    {
     "output_type": "execute_result",
     "data": {
      "text/plain": "                                      Album                          Artist  \\\n0                             Greatest Hits                   Lenny Kravitz   \n1                            Lost, Season 2                            Lost   \n2                          Heroes, Season 1                          Heroes   \n3                            Lost, Season 1                            Lost   \n4                            Lost, Season 3                            Lost   \n5            Battlestar Galactica, Season 3            Battlestar Galactica   \n6                            Minha Historia                   Chico Buarque   \n7                      The Office, Season 3                      The Office   \n8                          Ao Vivo [IMPORT]                  Zeca Pagodinho   \n9  Battlestar Galactica (Classic), Season 1  Battlestar Galactica (Classic)   \n\n   TotalSales  \n0      372.51  \n1      290.18  \n2      238.61  \n3      223.65  \n4      211.80  \n5      202.80  \n6      185.13  \n7      170.93  \n8      161.74  \n9      157.10  ",
      "text/html": "<div>\n<style scoped>\n    .dataframe tbody tr th:only-of-type {\n        vertical-align: middle;\n    }\n\n    .dataframe tbody tr th {\n        vertical-align: top;\n    }\n\n    .dataframe thead th {\n        text-align: right;\n    }\n</style>\n<table border=\"1\" class=\"dataframe\">\n  <thead>\n    <tr style=\"text-align: right;\">\n      <th></th>\n      <th>Album</th>\n      <th>Artist</th>\n      <th>TotalSales</th>\n    </tr>\n  </thead>\n  <tbody>\n    <tr>\n      <th>0</th>\n      <td>Greatest Hits</td>\n      <td>Lenny Kravitz</td>\n      <td>372.51</td>\n    </tr>\n    <tr>\n      <th>1</th>\n      <td>Lost, Season 2</td>\n      <td>Lost</td>\n      <td>290.18</td>\n    </tr>\n    <tr>\n      <th>2</th>\n      <td>Heroes, Season 1</td>\n      <td>Heroes</td>\n      <td>238.61</td>\n    </tr>\n    <tr>\n      <th>3</th>\n      <td>Lost, Season 1</td>\n      <td>Lost</td>\n      <td>223.65</td>\n    </tr>\n    <tr>\n      <th>4</th>\n      <td>Lost, Season 3</td>\n      <td>Lost</td>\n      <td>211.80</td>\n    </tr>\n    <tr>\n      <th>5</th>\n      <td>Battlestar Galactica, Season 3</td>\n      <td>Battlestar Galactica</td>\n      <td>202.80</td>\n    </tr>\n    <tr>\n      <th>6</th>\n      <td>Minha Historia</td>\n      <td>Chico Buarque</td>\n      <td>185.13</td>\n    </tr>\n    <tr>\n      <th>7</th>\n      <td>The Office, Season 3</td>\n      <td>The Office</td>\n      <td>170.93</td>\n    </tr>\n    <tr>\n      <th>8</th>\n      <td>Ao Vivo [IMPORT]</td>\n      <td>Zeca Pagodinho</td>\n      <td>161.74</td>\n    </tr>\n    <tr>\n      <th>9</th>\n      <td>Battlestar Galactica (Classic), Season 1</td>\n      <td>Battlestar Galactica (Classic)</td>\n      <td>157.10</td>\n    </tr>\n  </tbody>\n</table>\n</div>"
     },
     "metadata": {},
     "execution_count": 86
    }
   ],
   "source": [
    "total_sls = pd.read_sql_query(\"SELECT abm.Title as Album, art.Name as Artist, sum(inv.Total) as TotalSales\\\n",
    "                   FROM \\\n",
    "                   invoices as inv, invoice_items as inv_itm, tracks as trk, albums as abm, artists as art \\\n",
    "                   WHERE \\\n",
    "                   inv.InvoiceId = inv_itm.InvoiceId \\\n",
    "                   AND \\\n",
    "                   inv_itm.TrackId = trk.TrackId \\\n",
    "                   AND \\\n",
    "                   trk.AlbumId = abm.AlbumId \\\n",
    "                   AND \\\n",
    "                   abm.ArtistId = art.ArtistId \\\n",
    "                   GROUP BY abm.Title \\\n",
    "                   ORDER BY TotalSales DESC\", conn)\n",
    "total_sls.head(10)"
   ]
  },
  {
   "cell_type": "code",
   "execution_count": null,
   "metadata": {},
   "outputs": [],
   "source": [
    "ttl_sales = pd.read_sql_query(\"\")\n",
    "ttl_sales.head()"
   ]
  },
  {
   "cell_type": "code",
   "execution_count": 115,
   "metadata": {},
   "outputs": [
    {
     "output_type": "execute_result",
     "data": {
      "text/plain": "       FullName  TotalSales   Period\n0  Jane Peacock        0.99  2009-01\n1  Jane Peacock        1.98  2009-02\n2  Jane Peacock        3.96  2009-02\n3  Jane Peacock        5.94  2009-02\n4  Jane Peacock        8.91  2009-02",
      "text/html": "<div>\n<style scoped>\n    .dataframe tbody tr th:only-of-type {\n        vertical-align: middle;\n    }\n\n    .dataframe tbody tr th {\n        vertical-align: top;\n    }\n\n    .dataframe thead th {\n        text-align: right;\n    }\n</style>\n<table border=\"1\" class=\"dataframe\">\n  <thead>\n    <tr style=\"text-align: right;\">\n      <th></th>\n      <th>FullName</th>\n      <th>TotalSales</th>\n      <th>Period</th>\n    </tr>\n  </thead>\n  <tbody>\n    <tr>\n      <th>0</th>\n      <td>Jane Peacock</td>\n      <td>0.99</td>\n      <td>2009-01</td>\n    </tr>\n    <tr>\n      <th>1</th>\n      <td>Jane Peacock</td>\n      <td>1.98</td>\n      <td>2009-02</td>\n    </tr>\n    <tr>\n      <th>2</th>\n      <td>Jane Peacock</td>\n      <td>3.96</td>\n      <td>2009-02</td>\n    </tr>\n    <tr>\n      <th>3</th>\n      <td>Jane Peacock</td>\n      <td>5.94</td>\n      <td>2009-02</td>\n    </tr>\n    <tr>\n      <th>4</th>\n      <td>Jane Peacock</td>\n      <td>8.91</td>\n      <td>2009-02</td>\n    </tr>\n  </tbody>\n</table>\n</div>"
     },
     "metadata": {},
     "execution_count": 115
    }
   ],
   "source": [
    "emp_sales = pd.read_sql_query(\"SELECT (emp.FirstName||' '||emp.LastName) as FullName, \\\n",
    "                                      sum(inv.Total) as TotalSales, inv.InvoiceDate as Period \\\n",
    "                         FROM \\\n",
    "                         employees as emp, customers as cst, invoices as inv \\\n",
    "                         WHERE \\\n",
    "                         emp.EmployeeId = cst.SupportRepId \\\n",
    "                         AND \\\n",
    "                         cst.CustomerId = inv.CustomerId \\\n",
    "                         AND \\\n",
    "                         emp.Title = 'Sales Support Agent' \\\n",
    "                         GROUP BY FullName, inv.InvoiceDate\", conn, parse_dates='Period')\n",
    "\n",
    "emp_sales['Period'] = pd.to_datetime(emp_sales['Period']).dt.to_period('M')                         \n",
    "emp_sales.head()"
   ]
  },
  {
   "cell_type": "code",
   "execution_count": 120,
   "metadata": {},
   "outputs": [
    {
     "output_type": "execute_result",
     "data": {
      "text/plain": "         TotalSales\nPeriod             \n2009-01       35.64\n2009-02       37.62\n2009-03       37.62\n2009-04       37.62\n2009-05       37.62",
      "text/html": "<div>\n<style scoped>\n    .dataframe tbody tr th:only-of-type {\n        vertical-align: middle;\n    }\n\n    .dataframe tbody tr th {\n        vertical-align: top;\n    }\n\n    .dataframe thead th {\n        text-align: right;\n    }\n</style>\n<table border=\"1\" class=\"dataframe\">\n  <thead>\n    <tr style=\"text-align: right;\">\n      <th></th>\n      <th>TotalSales</th>\n    </tr>\n    <tr>\n      <th>Period</th>\n      <th></th>\n    </tr>\n  </thead>\n  <tbody>\n    <tr>\n      <th>2009-01</th>\n      <td>35.64</td>\n    </tr>\n    <tr>\n      <th>2009-02</th>\n      <td>37.62</td>\n    </tr>\n    <tr>\n      <th>2009-03</th>\n      <td>37.62</td>\n    </tr>\n    <tr>\n      <th>2009-04</th>\n      <td>37.62</td>\n    </tr>\n    <tr>\n      <th>2009-05</th>\n      <td>37.62</td>\n    </tr>\n  </tbody>\n</table>\n</div>"
     },
     "metadata": {},
     "execution_count": 120
    }
   ],
   "source": [
    "emp_sales_nm = emp_sales.pivot_table(\n",
    "    index= \"Period\",\n",
    "    values= \"TotalSales\",\n",
    "    aggfunc='sum'\n",
    ").sort_values(by=\"Period\", ascending=True)\n",
    "\n",
    "emp_sales_nm.head()"
   ]
  },
  {
   "cell_type": "code",
   "execution_count": 122,
   "metadata": {},
   "outputs": [
    {
     "output_type": "execute_result",
     "data": {
      "text/plain": "FullName  Jane Peacock  Margaret Park  Steve Johnson\nPeriod                                              \n2009-01           0.99          23.76          10.89\n2009-02          20.79           2.97          13.86\n2009-03           1.98          13.86          21.78\n2009-04          18.81          16.83           1.98\n2009-05          10.89           1.98          24.75\n2009-06           1.98          10.89          24.75\n2009-07          22.77           3.96          10.89\n2009-08          30.69           6.93            NaN\n2009-09           0.99          28.71           7.92\n2009-10            NaN           7.92          29.70\n2009-11           3.96          31.68           1.98\n2009-12           9.90          11.88          15.84\n2010-01           3.96            NaN          48.66\n2010-02          31.77           5.94           8.91\n2010-03          34.72           9.90            NaN\n2010-04          26.73           1.98           8.91\n2010-05           1.98          21.78          13.86\n2010-06           5.94          22.77           8.91\n2010-07          21.78          15.84            NaN\n2010-08          17.82           7.92          11.88\n2010-09           7.92          17.82          10.89\n2010-10          11.88           9.90          15.84\n2010-11          30.69           2.97           3.96\n2010-12          26.73           5.94           4.95\n2011-01           1.98           8.91          26.73\n2011-02          13.86          15.84           7.92\n2011-03          19.80          13.86           3.96\n2011-04          36.77           6.93           7.92\n2011-05           0.99          16.83          24.80\n2011-06          11.94          20.83          17.85\n2011-07          25.74           9.90           1.98\n2011-08          10.89           0.99          25.74\n2011-09          21.78           4.95          10.89\n2011-10          28.71           5.94           2.97\n2011-11           2.97          10.89           9.90\n2011-12           8.91           9.90          18.81\n2012-01           9.90          16.83          10.89\n2012-02           3.96          24.75           8.91\n2012-03          10.89          18.81           7.92\n2012-04           5.94           1.98          29.70\n2012-05          31.68           3.96           1.98\n2012-06          10.89          22.77           3.96\n2012-07           1.98           1.98          35.66\n2012-08           5.94          39.70           1.98\n2012-09           9.95          24.82          11.94\n2012-10          24.78          10.91           6.93\n2012-11           7.92          24.75           4.95\n2012-12          22.77           5.94           8.91\n2013-01          19.80          15.84           1.98\n2013-02          15.84          11.88            NaN\n2013-03           5.94          13.86          17.82\n2013-04            NaN          33.66            NaN\n2013-05           7.92           8.91          20.79\n2013-06          34.65            NaN           2.97\n2013-07           4.95          18.81          13.86\n2013-08          11.88          13.86          11.88\n2013-09          10.89          10.89          15.84\n2013-10          14.85          19.80           2.97\n2013-11           7.92           9.90          31.80\n2013-12          21.79          10.89           5.94",
      "text/html": "<div>\n<style scoped>\n    .dataframe tbody tr th:only-of-type {\n        vertical-align: middle;\n    }\n\n    .dataframe tbody tr th {\n        vertical-align: top;\n    }\n\n    .dataframe thead th {\n        text-align: right;\n    }\n</style>\n<table border=\"1\" class=\"dataframe\">\n  <thead>\n    <tr style=\"text-align: right;\">\n      <th>FullName</th>\n      <th>Jane Peacock</th>\n      <th>Margaret Park</th>\n      <th>Steve Johnson</th>\n    </tr>\n    <tr>\n      <th>Period</th>\n      <th></th>\n      <th></th>\n      <th></th>\n    </tr>\n  </thead>\n  <tbody>\n    <tr>\n      <th>2009-01</th>\n      <td>0.99</td>\n      <td>23.76</td>\n      <td>10.89</td>\n    </tr>\n    <tr>\n      <th>2009-02</th>\n      <td>20.79</td>\n      <td>2.97</td>\n      <td>13.86</td>\n    </tr>\n    <tr>\n      <th>2009-03</th>\n      <td>1.98</td>\n      <td>13.86</td>\n      <td>21.78</td>\n    </tr>\n    <tr>\n      <th>2009-04</th>\n      <td>18.81</td>\n      <td>16.83</td>\n      <td>1.98</td>\n    </tr>\n    <tr>\n      <th>2009-05</th>\n      <td>10.89</td>\n      <td>1.98</td>\n      <td>24.75</td>\n    </tr>\n    <tr>\n      <th>2009-06</th>\n      <td>1.98</td>\n      <td>10.89</td>\n      <td>24.75</td>\n    </tr>\n    <tr>\n      <th>2009-07</th>\n      <td>22.77</td>\n      <td>3.96</td>\n      <td>10.89</td>\n    </tr>\n    <tr>\n      <th>2009-08</th>\n      <td>30.69</td>\n      <td>6.93</td>\n      <td>NaN</td>\n    </tr>\n    <tr>\n      <th>2009-09</th>\n      <td>0.99</td>\n      <td>28.71</td>\n      <td>7.92</td>\n    </tr>\n    <tr>\n      <th>2009-10</th>\n      <td>NaN</td>\n      <td>7.92</td>\n      <td>29.70</td>\n    </tr>\n    <tr>\n      <th>2009-11</th>\n      <td>3.96</td>\n      <td>31.68</td>\n      <td>1.98</td>\n    </tr>\n    <tr>\n      <th>2009-12</th>\n      <td>9.90</td>\n      <td>11.88</td>\n      <td>15.84</td>\n    </tr>\n    <tr>\n      <th>2010-01</th>\n      <td>3.96</td>\n      <td>NaN</td>\n      <td>48.66</td>\n    </tr>\n    <tr>\n      <th>2010-02</th>\n      <td>31.77</td>\n      <td>5.94</td>\n      <td>8.91</td>\n    </tr>\n    <tr>\n      <th>2010-03</th>\n      <td>34.72</td>\n      <td>9.90</td>\n      <td>NaN</td>\n    </tr>\n    <tr>\n      <th>2010-04</th>\n      <td>26.73</td>\n      <td>1.98</td>\n      <td>8.91</td>\n    </tr>\n    <tr>\n      <th>2010-05</th>\n      <td>1.98</td>\n      <td>21.78</td>\n      <td>13.86</td>\n    </tr>\n    <tr>\n      <th>2010-06</th>\n      <td>5.94</td>\n      <td>22.77</td>\n      <td>8.91</td>\n    </tr>\n    <tr>\n      <th>2010-07</th>\n      <td>21.78</td>\n      <td>15.84</td>\n      <td>NaN</td>\n    </tr>\n    <tr>\n      <th>2010-08</th>\n      <td>17.82</td>\n      <td>7.92</td>\n      <td>11.88</td>\n    </tr>\n    <tr>\n      <th>2010-09</th>\n      <td>7.92</td>\n      <td>17.82</td>\n      <td>10.89</td>\n    </tr>\n    <tr>\n      <th>2010-10</th>\n      <td>11.88</td>\n      <td>9.90</td>\n      <td>15.84</td>\n    </tr>\n    <tr>\n      <th>2010-11</th>\n      <td>30.69</td>\n      <td>2.97</td>\n      <td>3.96</td>\n    </tr>\n    <tr>\n      <th>2010-12</th>\n      <td>26.73</td>\n      <td>5.94</td>\n      <td>4.95</td>\n    </tr>\n    <tr>\n      <th>2011-01</th>\n      <td>1.98</td>\n      <td>8.91</td>\n      <td>26.73</td>\n    </tr>\n    <tr>\n      <th>2011-02</th>\n      <td>13.86</td>\n      <td>15.84</td>\n      <td>7.92</td>\n    </tr>\n    <tr>\n      <th>2011-03</th>\n      <td>19.80</td>\n      <td>13.86</td>\n      <td>3.96</td>\n    </tr>\n    <tr>\n      <th>2011-04</th>\n      <td>36.77</td>\n      <td>6.93</td>\n      <td>7.92</td>\n    </tr>\n    <tr>\n      <th>2011-05</th>\n      <td>0.99</td>\n      <td>16.83</td>\n      <td>24.80</td>\n    </tr>\n    <tr>\n      <th>2011-06</th>\n      <td>11.94</td>\n      <td>20.83</td>\n      <td>17.85</td>\n    </tr>\n    <tr>\n      <th>2011-07</th>\n      <td>25.74</td>\n      <td>9.90</td>\n      <td>1.98</td>\n    </tr>\n    <tr>\n      <th>2011-08</th>\n      <td>10.89</td>\n      <td>0.99</td>\n      <td>25.74</td>\n    </tr>\n    <tr>\n      <th>2011-09</th>\n      <td>21.78</td>\n      <td>4.95</td>\n      <td>10.89</td>\n    </tr>\n    <tr>\n      <th>2011-10</th>\n      <td>28.71</td>\n      <td>5.94</td>\n      <td>2.97</td>\n    </tr>\n    <tr>\n      <th>2011-11</th>\n      <td>2.97</td>\n      <td>10.89</td>\n      <td>9.90</td>\n    </tr>\n    <tr>\n      <th>2011-12</th>\n      <td>8.91</td>\n      <td>9.90</td>\n      <td>18.81</td>\n    </tr>\n    <tr>\n      <th>2012-01</th>\n      <td>9.90</td>\n      <td>16.83</td>\n      <td>10.89</td>\n    </tr>\n    <tr>\n      <th>2012-02</th>\n      <td>3.96</td>\n      <td>24.75</td>\n      <td>8.91</td>\n    </tr>\n    <tr>\n      <th>2012-03</th>\n      <td>10.89</td>\n      <td>18.81</td>\n      <td>7.92</td>\n    </tr>\n    <tr>\n      <th>2012-04</th>\n      <td>5.94</td>\n      <td>1.98</td>\n      <td>29.70</td>\n    </tr>\n    <tr>\n      <th>2012-05</th>\n      <td>31.68</td>\n      <td>3.96</td>\n      <td>1.98</td>\n    </tr>\n    <tr>\n      <th>2012-06</th>\n      <td>10.89</td>\n      <td>22.77</td>\n      <td>3.96</td>\n    </tr>\n    <tr>\n      <th>2012-07</th>\n      <td>1.98</td>\n      <td>1.98</td>\n      <td>35.66</td>\n    </tr>\n    <tr>\n      <th>2012-08</th>\n      <td>5.94</td>\n      <td>39.70</td>\n      <td>1.98</td>\n    </tr>\n    <tr>\n      <th>2012-09</th>\n      <td>9.95</td>\n      <td>24.82</td>\n      <td>11.94</td>\n    </tr>\n    <tr>\n      <th>2012-10</th>\n      <td>24.78</td>\n      <td>10.91</td>\n      <td>6.93</td>\n    </tr>\n    <tr>\n      <th>2012-11</th>\n      <td>7.92</td>\n      <td>24.75</td>\n      <td>4.95</td>\n    </tr>\n    <tr>\n      <th>2012-12</th>\n      <td>22.77</td>\n      <td>5.94</td>\n      <td>8.91</td>\n    </tr>\n    <tr>\n      <th>2013-01</th>\n      <td>19.80</td>\n      <td>15.84</td>\n      <td>1.98</td>\n    </tr>\n    <tr>\n      <th>2013-02</th>\n      <td>15.84</td>\n      <td>11.88</td>\n      <td>NaN</td>\n    </tr>\n    <tr>\n      <th>2013-03</th>\n      <td>5.94</td>\n      <td>13.86</td>\n      <td>17.82</td>\n    </tr>\n    <tr>\n      <th>2013-04</th>\n      <td>NaN</td>\n      <td>33.66</td>\n      <td>NaN</td>\n    </tr>\n    <tr>\n      <th>2013-05</th>\n      <td>7.92</td>\n      <td>8.91</td>\n      <td>20.79</td>\n    </tr>\n    <tr>\n      <th>2013-06</th>\n      <td>34.65</td>\n      <td>NaN</td>\n      <td>2.97</td>\n    </tr>\n    <tr>\n      <th>2013-07</th>\n      <td>4.95</td>\n      <td>18.81</td>\n      <td>13.86</td>\n    </tr>\n    <tr>\n      <th>2013-08</th>\n      <td>11.88</td>\n      <td>13.86</td>\n      <td>11.88</td>\n    </tr>\n    <tr>\n      <th>2013-09</th>\n      <td>10.89</td>\n      <td>10.89</td>\n      <td>15.84</td>\n    </tr>\n    <tr>\n      <th>2013-10</th>\n      <td>14.85</td>\n      <td>19.80</td>\n      <td>2.97</td>\n    </tr>\n    <tr>\n      <th>2013-11</th>\n      <td>7.92</td>\n      <td>9.90</td>\n      <td>31.80</td>\n    </tr>\n    <tr>\n      <th>2013-12</th>\n      <td>21.79</td>\n      <td>10.89</td>\n      <td>5.94</td>\n    </tr>\n  </tbody>\n</table>\n</div>"
     },
     "metadata": {},
     "execution_count": 122
    }
   ],
   "source": [
    "pd.crosstab(\n",
    "    index=emp_sales['Period'], \n",
    "    columns=emp_sales['FullName'],\n",
    "    values=emp_sales['TotalSales'],\n",
    "    aggfunc = 'sum')"
   ]
  }
 ],
 "metadata": {
  "language_info": {
   "codemirror_mode": {
    "name": "ipython",
    "version": 3
   },
   "file_extension": ".py",
   "mimetype": "text/x-python",
   "name": "python",
   "nbconvert_exporter": "python",
   "pygments_lexer": "ipython3",
   "version": "3.7.7-final"
  },
  "orig_nbformat": 2,
  "kernelspec": {
   "name": "python37764bitcapstoneapiconda7f9623b4e46d4165878ea8ab03538906",
   "display_name": "Python 3.7.7 64-bit ('capstone_api': conda)"
  }
 },
 "nbformat": 4,
 "nbformat_minor": 2
}