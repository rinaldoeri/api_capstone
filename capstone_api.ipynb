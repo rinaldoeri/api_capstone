{
 "cells": [
  {
   "cell_type": "code",
   "execution_count": 1,
   "metadata": {},
   "outputs": [],
   "source": [
    "import sqlite3\n",
    "import pandas as pd\n",
    "\n",
    "conn = sqlite3.connect(\"chinook.db\")"
   ]
  },
  {
   "cell_type": "code",
   "execution_count": 41,
   "metadata": {},
   "outputs": [
    {
     "output_type": "execute_result",
     "data": {
      "text/plain": "        FullName                Title  ReportsTo            BirthDate  \\\n0   Andrew Adams      General Manager        NaN  1962-02-18 00:00:00   \n1  Nancy Edwards        Sales Manager        1.0  1958-12-08 00:00:00   \n2   Jane Peacock  Sales Support Agent        2.0  1973-08-29 00:00:00   \n3  Margaret Park  Sales Support Agent        2.0  1947-09-19 00:00:00   \n4  Steve Johnson  Sales Support Agent        2.0  1965-03-03 00:00:00   \n\n              HireDate              Address      City State  \\\n0  2002-08-14 00:00:00  11120 Jasper Ave NW  Edmonton    AB   \n1  2002-05-01 00:00:00         825 8 Ave SW   Calgary    AB   \n2  2002-04-01 00:00:00        1111 6 Ave SW   Calgary    AB   \n3  2003-05-03 00:00:00     683 10 Street SW   Calgary    AB   \n4  2003-10-17 00:00:00         7727B 41 Ave   Calgary    AB   \n\n               Phone                     Email  \n0  +1 (780) 428-9482    andrew@chinookcorp.com  \n1  +1 (403) 262-3443     nancy@chinookcorp.com  \n2  +1 (403) 262-3443      jane@chinookcorp.com  \n3  +1 (403) 263-4423  margaret@chinookcorp.com  \n4   1 (780) 836-9987     steve@chinookcorp.com  ",
      "text/html": "<div>\n<style scoped>\n    .dataframe tbody tr th:only-of-type {\n        vertical-align: middle;\n    }\n\n    .dataframe tbody tr th {\n        vertical-align: top;\n    }\n\n    .dataframe thead th {\n        text-align: right;\n    }\n</style>\n<table border=\"1\" class=\"dataframe\">\n  <thead>\n    <tr style=\"text-align: right;\">\n      <th></th>\n      <th>FullName</th>\n      <th>Title</th>\n      <th>ReportsTo</th>\n      <th>BirthDate</th>\n      <th>HireDate</th>\n      <th>Address</th>\n      <th>City</th>\n      <th>State</th>\n      <th>Phone</th>\n      <th>Email</th>\n    </tr>\n  </thead>\n  <tbody>\n    <tr>\n      <th>0</th>\n      <td>Andrew Adams</td>\n      <td>General Manager</td>\n      <td>NaN</td>\n      <td>1962-02-18 00:00:00</td>\n      <td>2002-08-14 00:00:00</td>\n      <td>11120 Jasper Ave NW</td>\n      <td>Edmonton</td>\n      <td>AB</td>\n      <td>+1 (780) 428-9482</td>\n      <td>andrew@chinookcorp.com</td>\n    </tr>\n    <tr>\n      <th>1</th>\n      <td>Nancy Edwards</td>\n      <td>Sales Manager</td>\n      <td>1.0</td>\n      <td>1958-12-08 00:00:00</td>\n      <td>2002-05-01 00:00:00</td>\n      <td>825 8 Ave SW</td>\n      <td>Calgary</td>\n      <td>AB</td>\n      <td>+1 (403) 262-3443</td>\n      <td>nancy@chinookcorp.com</td>\n    </tr>\n    <tr>\n      <th>2</th>\n      <td>Jane Peacock</td>\n      <td>Sales Support Agent</td>\n      <td>2.0</td>\n      <td>1973-08-29 00:00:00</td>\n      <td>2002-04-01 00:00:00</td>\n      <td>1111 6 Ave SW</td>\n      <td>Calgary</td>\n      <td>AB</td>\n      <td>+1 (403) 262-3443</td>\n      <td>jane@chinookcorp.com</td>\n    </tr>\n    <tr>\n      <th>3</th>\n      <td>Margaret Park</td>\n      <td>Sales Support Agent</td>\n      <td>2.0</td>\n      <td>1947-09-19 00:00:00</td>\n      <td>2003-05-03 00:00:00</td>\n      <td>683 10 Street SW</td>\n      <td>Calgary</td>\n      <td>AB</td>\n      <td>+1 (403) 263-4423</td>\n      <td>margaret@chinookcorp.com</td>\n    </tr>\n    <tr>\n      <th>4</th>\n      <td>Steve Johnson</td>\n      <td>Sales Support Agent</td>\n      <td>2.0</td>\n      <td>1965-03-03 00:00:00</td>\n      <td>2003-10-17 00:00:00</td>\n      <td>7727B 41 Ave</td>\n      <td>Calgary</td>\n      <td>AB</td>\n      <td>1 (780) 836-9987</td>\n      <td>steve@chinookcorp.com</td>\n    </tr>\n  </tbody>\n</table>\n</div>"
     },
     "metadata": {},
     "execution_count": 41
    }
   ],
   "source": [
    "emp = pd.read_sql_query(\"select (FirstName||' '||LastName) as FullName, Title, ReportsTo, BirthDate, HireDate, Address, City, State, Phone, Email from employees\", conn)\n",
    "emp.head()"
   ]
  },
  {
   "cell_type": "code",
   "execution_count": 8,
   "metadata": {},
   "outputs": [
    {
     "output_type": "execute_result",
     "data": {
      "text/plain": "   TrackId               Name  AlbumId  MediaTypeId  GenreId  \\\n0        4  Restless and Wild        3            2        1   \n\n                                            Composer  Milliseconds    Bytes  \\\n0  F. Baltes, R.A. Smith-Diesel, S. Kaufman, U. D...        252051  4331779   \n\n   UnitPrice  \n0       0.99  ",
      "text/html": "<div>\n<style scoped>\n    .dataframe tbody tr th:only-of-type {\n        vertical-align: middle;\n    }\n\n    .dataframe tbody tr th {\n        vertical-align: top;\n    }\n\n    .dataframe thead th {\n        text-align: right;\n    }\n</style>\n<table border=\"1\" class=\"dataframe\">\n  <thead>\n    <tr style=\"text-align: right;\">\n      <th></th>\n      <th>TrackId</th>\n      <th>Name</th>\n      <th>AlbumId</th>\n      <th>MediaTypeId</th>\n      <th>GenreId</th>\n      <th>Composer</th>\n      <th>Milliseconds</th>\n      <th>Bytes</th>\n      <th>UnitPrice</th>\n    </tr>\n  </thead>\n  <tbody>\n    <tr>\n      <th>0</th>\n      <td>4</td>\n      <td>Restless and Wild</td>\n      <td>3</td>\n      <td>2</td>\n      <td>1</td>\n      <td>F. Baltes, R.A. Smith-Diesel, S. Kaufman, U. D...</td>\n      <td>252051</td>\n      <td>4331779</td>\n      <td>0.99</td>\n    </tr>\n  </tbody>\n</table>\n</div>"
     },
     "metadata": {},
     "execution_count": 8
    }
   ],
   "source": [
    "track = pd.read_sql_query(\"select * from tracks where TrackId = 4\", conn)\n",
    "track"
   ]
  },
  {
   "cell_type": "code",
   "execution_count": 15,
   "metadata": {},
   "outputs": [
    {
     "output_type": "execute_result",
     "data": {
      "text/plain": "             TrackNm                                           Composer  \\\n0  Restless and Wild  F. Baltes, R.A. Smith-Diesel, S. Kaufman, U. D...   \n\n   UnitPrice GenreNm  GenreId  TrackId  \n0       0.99    Rock        1        4  ",
      "text/html": "<div>\n<style scoped>\n    .dataframe tbody tr th:only-of-type {\n        vertical-align: middle;\n    }\n\n    .dataframe tbody tr th {\n        vertical-align: top;\n    }\n\n    .dataframe thead th {\n        text-align: right;\n    }\n</style>\n<table border=\"1\" class=\"dataframe\">\n  <thead>\n    <tr style=\"text-align: right;\">\n      <th></th>\n      <th>TrackNm</th>\n      <th>Composer</th>\n      <th>UnitPrice</th>\n      <th>GenreNm</th>\n      <th>GenreId</th>\n      <th>TrackId</th>\n    </tr>\n  </thead>\n  <tbody>\n    <tr>\n      <th>0</th>\n      <td>Restless and Wild</td>\n      <td>F. Baltes, R.A. Smith-Diesel, S. Kaufman, U. D...</td>\n      <td>0.99</td>\n      <td>Rock</td>\n      <td>1</td>\n      <td>4</td>\n    </tr>\n  </tbody>\n</table>\n</div>"
     },
     "metadata": {},
     "execution_count": 15
    }
   ],
   "source": [
    "genre = pd.read_sql_query(\"select trk.Name as TrackNm, trk.Composer, trk.UnitPrice, gnr.Name as GenreNm, gnr.GenreId, trk.TrackId \\\n",
    "                   from tracks as trk, genres as gnr \\\n",
    "                   where trk.GenreId = gnr.GenreId and trk.TrackId = 4 and gnr.GenreId = 1\", conn)\n",
    "genre.head()"
   ]
  },
  {
   "cell_type": "code",
   "execution_count": 22,
   "metadata": {},
   "outputs": [
    {
     "output_type": "execute_result",
     "data": {
      "text/plain": "   MediaTypeId                         Name\n0            1              MPEG audio file\n1            2     Protected AAC audio file\n2            3  Protected MPEG-4 video file\n3            4     Purchased AAC audio file\n4            5               AAC audio file",
      "text/html": "<div>\n<style scoped>\n    .dataframe tbody tr th:only-of-type {\n        vertical-align: middle;\n    }\n\n    .dataframe tbody tr th {\n        vertical-align: top;\n    }\n\n    .dataframe thead th {\n        text-align: right;\n    }\n</style>\n<table border=\"1\" class=\"dataframe\">\n  <thead>\n    <tr style=\"text-align: right;\">\n      <th></th>\n      <th>MediaTypeId</th>\n      <th>Name</th>\n    </tr>\n  </thead>\n  <tbody>\n    <tr>\n      <th>0</th>\n      <td>1</td>\n      <td>MPEG audio file</td>\n    </tr>\n    <tr>\n      <th>1</th>\n      <td>2</td>\n      <td>Protected AAC audio file</td>\n    </tr>\n    <tr>\n      <th>2</th>\n      <td>3</td>\n      <td>Protected MPEG-4 video file</td>\n    </tr>\n    <tr>\n      <th>3</th>\n      <td>4</td>\n      <td>Purchased AAC audio file</td>\n    </tr>\n    <tr>\n      <th>4</th>\n      <td>5</td>\n      <td>AAC audio file</td>\n    </tr>\n  </tbody>\n</table>\n</div>"
     },
     "metadata": {},
     "execution_count": 22
    }
   ],
   "source": [
    "pd.read_sql_query(\"SELECT * FROM media_types\", conn)"
   ]
  },
  {
   "cell_type": "code",
   "execution_count": 38,
   "metadata": {},
   "outputs": [
    {
     "output_type": "execute_result",
     "data": {
      "text/plain": "          Country             Genre InvoiceDate   Total      Month\n0           Chile   Science Fiction  2010-01-13  102.41    January\n1             USA            Comedy  2012-09-27  112.30  September\n2             USA  Sci Fi & Fantasy  2012-08-05  198.87     August\n3  Czech Republic             Drama  2013-11-13  544.61   November\n4          Sweden          TV Shows  2010-01-10  817.71    January",
      "text/html": "<div>\n<style scoped>\n    .dataframe tbody tr th:only-of-type {\n        vertical-align: middle;\n    }\n\n    .dataframe tbody tr th {\n        vertical-align: top;\n    }\n\n    .dataframe thead th {\n        text-align: right;\n    }\n</style>\n<table border=\"1\" class=\"dataframe\">\n  <thead>\n    <tr style=\"text-align: right;\">\n      <th></th>\n      <th>Country</th>\n      <th>Genre</th>\n      <th>InvoiceDate</th>\n      <th>Total</th>\n      <th>Month</th>\n    </tr>\n  </thead>\n  <tbody>\n    <tr>\n      <th>0</th>\n      <td>Chile</td>\n      <td>Science Fiction</td>\n      <td>2010-01-13</td>\n      <td>102.41</td>\n      <td>January</td>\n    </tr>\n    <tr>\n      <th>1</th>\n      <td>USA</td>\n      <td>Comedy</td>\n      <td>2012-09-27</td>\n      <td>112.30</td>\n      <td>September</td>\n    </tr>\n    <tr>\n      <th>2</th>\n      <td>USA</td>\n      <td>Sci Fi &amp; Fantasy</td>\n      <td>2012-08-05</td>\n      <td>198.87</td>\n      <td>August</td>\n    </tr>\n    <tr>\n      <th>3</th>\n      <td>Czech Republic</td>\n      <td>Drama</td>\n      <td>2013-11-13</td>\n      <td>544.61</td>\n      <td>November</td>\n    </tr>\n    <tr>\n      <th>4</th>\n      <td>Sweden</td>\n      <td>TV Shows</td>\n      <td>2010-01-10</td>\n      <td>817.71</td>\n      <td>January</td>\n    </tr>\n  </tbody>\n</table>\n</div>"
     },
     "metadata": {},
     "execution_count": 38
    }
   ],
   "source": [
    "ttl_sales = pd.read_sql_query(\"SELECT inv.BillingCountry as Country, gnr.Name as Genre, inv.InvoiceDate, SUM(inv.Total) as Total \\\n",
    "                   FROM invoices as inv, invoice_items as inv_itm, tracks as trk, genres as gnr, media_types as md_typ \\\n",
    "                   WHERE \\\n",
    "                   inv.InvoiceId = inv_itm.InvoiceId \\\n",
    "                   AND \\\n",
    "                   inv_itm.TrackId = trk.TrackId \\\n",
    "                   AND \\\n",
    "                   trk.GenreId = gnr.GenreId \\\n",
    "                   AND \\\n",
    "                   trk.MediaTypeId = md_typ.MediaTypeId \\\n",
    "                   AND \\\n",
    "                   md_typ.MediaTypeId = 3 \\\n",
    "                   GROUP BY Genre \\\n",
    "                   ORDER BY Total\", conn, parse_dates='InvoiceDate')\n",
    "\n",
    "ttl_sales['Month'] = ttl_sales[\"InvoiceDate\"].dt.month_name()\n",
    "ttl_sales"
   ]
  },
  {
   "cell_type": "code",
   "execution_count": 32,
   "metadata": {},
   "outputs": [
    {
     "output_type": "execute_result",
     "data": {
      "text/plain": "    Country               Genre                     Media_Nm   Total\n0   Germany                Rock     Protected AAC audio file  577.17\n1   Germany               Metal              MPEG audio file  189.09\n2   Germany               Latin              MPEG audio file  163.35\n3   Germany  Alternative & Punk              MPEG audio file  105.12\n4   Germany               Blues              MPEG audio file   97.02\n5   Germany          Soundtrack              MPEG audio file   59.40\n6   Germany            TV Shows  Protected MPEG-4 video file   44.73\n7   Germany         Heavy Metal              MPEG audio file   41.58\n8   Germany     Science Fiction  Protected MPEG-4 video file   29.82\n9   Germany                Jazz              MPEG audio file   27.72\n10  Germany      Easy Listening              MPEG audio file   27.72\n11  Germany               Drama  Protected MPEG-4 video file   14.91\n12  Germany                 Pop              MPEG audio file   13.86\n13  Germany         Alternative     Protected AAC audio file    0.99",
      "text/html": "<div>\n<style scoped>\n    .dataframe tbody tr th:only-of-type {\n        vertical-align: middle;\n    }\n\n    .dataframe tbody tr th {\n        vertical-align: top;\n    }\n\n    .dataframe thead th {\n        text-align: right;\n    }\n</style>\n<table border=\"1\" class=\"dataframe\">\n  <thead>\n    <tr style=\"text-align: right;\">\n      <th></th>\n      <th>Country</th>\n      <th>Genre</th>\n      <th>Media_Nm</th>\n      <th>Total</th>\n    </tr>\n  </thead>\n  <tbody>\n    <tr>\n      <th>0</th>\n      <td>Germany</td>\n      <td>Rock</td>\n      <td>Protected AAC audio file</td>\n      <td>577.17</td>\n    </tr>\n    <tr>\n      <th>1</th>\n      <td>Germany</td>\n      <td>Metal</td>\n      <td>MPEG audio file</td>\n      <td>189.09</td>\n    </tr>\n    <tr>\n      <th>2</th>\n      <td>Germany</td>\n      <td>Latin</td>\n      <td>MPEG audio file</td>\n      <td>163.35</td>\n    </tr>\n    <tr>\n      <th>3</th>\n      <td>Germany</td>\n      <td>Alternative &amp; Punk</td>\n      <td>MPEG audio file</td>\n      <td>105.12</td>\n    </tr>\n    <tr>\n      <th>4</th>\n      <td>Germany</td>\n      <td>Blues</td>\n      <td>MPEG audio file</td>\n      <td>97.02</td>\n    </tr>\n    <tr>\n      <th>5</th>\n      <td>Germany</td>\n      <td>Soundtrack</td>\n      <td>MPEG audio file</td>\n      <td>59.40</td>\n    </tr>\n    <tr>\n      <th>6</th>\n      <td>Germany</td>\n      <td>TV Shows</td>\n      <td>Protected MPEG-4 video file</td>\n      <td>44.73</td>\n    </tr>\n    <tr>\n      <th>7</th>\n      <td>Germany</td>\n      <td>Heavy Metal</td>\n      <td>MPEG audio file</td>\n      <td>41.58</td>\n    </tr>\n    <tr>\n      <th>8</th>\n      <td>Germany</td>\n      <td>Science Fiction</td>\n      <td>Protected MPEG-4 video file</td>\n      <td>29.82</td>\n    </tr>\n    <tr>\n      <th>9</th>\n      <td>Germany</td>\n      <td>Jazz</td>\n      <td>MPEG audio file</td>\n      <td>27.72</td>\n    </tr>\n    <tr>\n      <th>10</th>\n      <td>Germany</td>\n      <td>Easy Listening</td>\n      <td>MPEG audio file</td>\n      <td>27.72</td>\n    </tr>\n    <tr>\n      <th>11</th>\n      <td>Germany</td>\n      <td>Drama</td>\n      <td>Protected MPEG-4 video file</td>\n      <td>14.91</td>\n    </tr>\n    <tr>\n      <th>12</th>\n      <td>Germany</td>\n      <td>Pop</td>\n      <td>MPEG audio file</td>\n      <td>13.86</td>\n    </tr>\n    <tr>\n      <th>13</th>\n      <td>Germany</td>\n      <td>Alternative</td>\n      <td>Protected AAC audio file</td>\n      <td>0.99</td>\n    </tr>\n  </tbody>\n</table>\n</div>"
     },
     "metadata": {},
     "execution_count": 32
    }
   ],
   "source": [
    "country_sales = pd.read_sql_query(\"SELECT inv.BillingCountry as Country, gnr.Name as Genre, md_typ.Name as Media_Nm, sum(inv.Total) as Total\\\n",
    "                   FROM invoices as inv, invoice_items as inv_itm, tracks as trk, genres as gnr, media_types as md_typ \\\n",
    "                   WHERE \\\n",
    "                   inv.InvoiceId = inv_itm.InvoiceId \\\n",
    "                   AND \\\n",
    "                   inv_itm.TrackId = trk.TrackId \\\n",
    "                   AND \\\n",
    "                   trk.GenreId = gnr.GenreId \\\n",
    "                   AND \\\n",
    "                   trk.MediaTypeId = md_typ.MediaTypeId \\\n",
    "                   AND \\\n",
    "                   inv.BillingCountry = 'Germany' \\\n",
    "                   GROUP BY Genre \\\n",
    "                   ORDER BY Total DESC\", conn)\n",
    "country_sales"
   ]
  },
  {
   "cell_type": "code",
   "execution_count": 46,
   "metadata": {},
   "outputs": [
    {
     "output_type": "execute_result",
     "data": {
      "text/plain": "          Country             Genre                         Name   Total\n0           Chile   Science Fiction  Protected MPEG-4 video file  102.41\n1             USA            Comedy  Protected MPEG-4 video file  112.30\n2             USA  Sci Fi & Fantasy  Protected MPEG-4 video file  198.87\n3  Czech Republic             Drama  Protected MPEG-4 video file  544.61\n4          Sweden          TV Shows  Protected MPEG-4 video file  817.71",
      "text/html": "<div>\n<style scoped>\n    .dataframe tbody tr th:only-of-type {\n        vertical-align: middle;\n    }\n\n    .dataframe tbody tr th {\n        vertical-align: top;\n    }\n\n    .dataframe thead th {\n        text-align: right;\n    }\n</style>\n<table border=\"1\" class=\"dataframe\">\n  <thead>\n    <tr style=\"text-align: right;\">\n      <th></th>\n      <th>Country</th>\n      <th>Genre</th>\n      <th>Name</th>\n      <th>Total</th>\n    </tr>\n  </thead>\n  <tbody>\n    <tr>\n      <th>0</th>\n      <td>Chile</td>\n      <td>Science Fiction</td>\n      <td>Protected MPEG-4 video file</td>\n      <td>102.41</td>\n    </tr>\n    <tr>\n      <th>1</th>\n      <td>USA</td>\n      <td>Comedy</td>\n      <td>Protected MPEG-4 video file</td>\n      <td>112.30</td>\n    </tr>\n    <tr>\n      <th>2</th>\n      <td>USA</td>\n      <td>Sci Fi &amp; Fantasy</td>\n      <td>Protected MPEG-4 video file</td>\n      <td>198.87</td>\n    </tr>\n    <tr>\n      <th>3</th>\n      <td>Czech Republic</td>\n      <td>Drama</td>\n      <td>Protected MPEG-4 video file</td>\n      <td>544.61</td>\n    </tr>\n    <tr>\n      <th>4</th>\n      <td>Sweden</td>\n      <td>TV Shows</td>\n      <td>Protected MPEG-4 video file</td>\n      <td>817.71</td>\n    </tr>\n  </tbody>\n</table>\n</div>"
     },
     "metadata": {},
     "execution_count": 46
    }
   ],
   "source": [
    "ttl_sales_media = pd.read_sql_query(\"SELECT inv.BillingCountry as Country, gnr.Name as Genre, md_typ.Name, SUM(inv.Total) as Total \\\n",
    "                   FROM invoices as inv, invoice_items as inv_itm, tracks as trk, genres as gnr, media_types as md_typ \\\n",
    "                   WHERE \\\n",
    "                   inv.InvoiceId = inv_itm.InvoiceId \\\n",
    "                   AND \\\n",
    "                   inv_itm.TrackId = trk.TrackId \\\n",
    "                   AND \\\n",
    "                   trk.GenreId = gnr.GenreId \\\n",
    "                   AND \\\n",
    "                   trk.MediaTypeId = md_typ.MediaTypeId \\\n",
    "                   AND \\\n",
    "                   md_typ.MediaTypeId = 3 \\\n",
    "                   GROUP BY Genre \\\n",
    "                   ORDER BY Total\", conn)\n",
    "ttl_sales_media"
   ]
  }
 ],
 "metadata": {
  "language_info": {
   "codemirror_mode": {
    "name": "ipython",
    "version": 3
   },
   "file_extension": ".py",
   "mimetype": "text/x-python",
   "name": "python",
   "nbconvert_exporter": "python",
   "pygments_lexer": "ipython3",
   "version": "3.7.7-final"
  },
  "orig_nbformat": 2,
  "kernelspec": {
   "name": "python37764bitcapstoneapiconda7f9623b4e46d4165878ea8ab03538906",
   "display_name": "Python 3.7.7 64-bit ('capstone_api': conda)"
  }
 },
 "nbformat": 4,
 "nbformat_minor": 2
}